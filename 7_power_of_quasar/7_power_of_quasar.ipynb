{
 "cells": [
  {
   "cell_type": "markdown",
   "metadata": {},
   "source": [
    "<center><h4><b>PHY4905/5905: Computational Physics – Spring 2022</b></h4></center>\n",
    "<center><h4><b>Homework #3: The Power of a Quasar</b></h4></center>\n",
    "<center><h4><b>Code Author: Pratiksha Balasaheb Gaikwad</b></h4></center>\n",
    "<hr style=\"height:2px;border-width:0;color:orange;background-color:orange\">\n",
    "<hr style=\"height:2px;border-width:0;color:blue;background-color:blue\">\n",
    "\n"
   ]
  },
  {
   "cell_type": "code",
   "execution_count": 1,
   "metadata": {},
   "outputs": [],
   "source": [
    "import numpy as np\n",
    "import matplotlib.pyplot as plt\n",
    "import math\n"
   ]
  },
  {
   "cell_type": "markdown",
   "metadata": {},
   "source": [
    "**1. Write code that can read in the data in \"quasar_spectrum.txt\" and assign the\n",
    "data to appropriate variables. Make a plot of the quasar spectrum.**"
   ]
  },
  {
   "cell_type": "code",
   "execution_count": 2,
   "metadata": {},
   "outputs": [],
   "source": [
    "# Read data from input file\n",
    "# freq_data == Column 1 --> Unit = log_10 Hz\n",
    "# lum_data == column 2 --> Unit = log_10 W\n",
    "freq_data, lum_data = np.loadtxt(\"quasar_spectrum.txt\", usecols = (0,1), unpack =\"True\")\n"
   ]
  },
  {
   "cell_type": "code",
   "execution_count": 3,
   "metadata": {},
   "outputs": [
    {
     "data": {
      "image/png": "[encoded data removed]",
      "text/plain": [
       "<Figure size 432x288 with 1 Axes>"
      ]
     },
     "metadata": {
      "needs_background": "light"
     },
     "output_type": "display_data"
    }
   ],
   "source": [
    "# Plot of the Quasar Spectrum\n",
    "\n",
    "plt.plot(freq_data,lum_data, color ='red', linestyle=':',\n",
    "         linewidth = 2)\n",
    "plt.style.use('bmh')\n",
    "plt.xlabel('Frequency in (log10 Hz)')\n",
    "plt.ylabel('Luminosity (log10 W)')\n",
    "plt.title('Quasar Spectrum : Luminosity vs Frequency')\n",
    "plt.show()"
   ]
  },
  {
   "cell_type": "markdown",
   "metadata": {},
   "source": [
    "<hr style=\"height:2px;border-width:0;color:blue;background-color:blue\">"
   ]
  },
  {
   "cell_type": "markdown",
   "metadata": {},
   "source": [
    "**2. Write code to calculate the luminosity in a specified portion of the quasar spectrum,\n",
    "by performing numerical integration. Your code should be able to use any of the\n",
    "following integration methods:**  \n",
    "    (a) Piecewise constant integration (the “rectangle rule\")  \n",
    "    (b) Piecewise linear integration (the “trapezoidal rule\")  \n",
    "    (c) Simpson’s Rule"
   ]
  },
  {
   "cell_type": "code",
   "execution_count": 4,
   "metadata": {},
   "outputs": [],
   "source": [
    "class integrate:\n",
    "    '''Class 'integrate' constitutes integration methods,\n",
    "        1. Rectangle Rule\n",
    "        2. Trapezoidal Rule\n",
    "        3. Simpson's Rule, \n",
    "        \n",
    "        along with common variables, defined in '__init__' function, which are used as parameters by constituting methods. \n",
    "    \n",
    "    Each method calculates following variables:\n",
    "    h :  step size\n",
    "    s OR s_tot : sum over integration functions\n",
    "    result : value of integration using THE method\n",
    "    rel_err : relative error    \n",
    "    \n",
    "    '''\n",
    "    def __init__(self,freq_data, lum_data, func, N, xmin, xmax, exact, verbose=True):\n",
    "        self.freq_data = freq_data # array of input frequency data\n",
    "        self.lum_data = lum_data # array of input luminosity data\n",
    "        self.func = func # function to integrate over\n",
    "        self.N = N # No. of bins\n",
    "        self.xmin = xmin # minimum limit of integration\n",
    "        self.xmax = xmax # maximum limit of integration\n",
    "        self.exact = exact # exact value of integration function\n",
    "        self.verbose = verbose # keyword to print data\n",
    "        \n",
    "        \n",
    "    def rectangle(self):\n",
    "        h = (self.xmax-self.xmin)/self.N # step-size\n",
    "        s = 0.0\n",
    "        result = 0.0\n",
    "        rel_err = 0.0\n",
    "    \n",
    "        for k in range(self.N):\n",
    "            s += self.func(np.interp(self.xmin + k*h, self.freq_data,self.lum_data))\n",
    "            \n",
    "        result = h*s\n",
    "        rel_err = abs((self.exact-result)/self.exact)\n",
    "        if self.verbose:\n",
    "            print(f\"\\nIntegral with rectangle rule: {result:.6g}\")\n",
    "            print(f\"Rel. error {rel_err:.6g} with {self.N} bins.\")\n",
    "        \n",
    "        return result, rel_err\n",
    "    \n",
    "    \n",
    "    def trapezoidal(self):\n",
    "        h = (self.xmax-self.xmin)/self.N #step-size\n",
    "        \n",
    "        # a : value of integration function at xmin\n",
    "        # b : value of integration function at xmax\n",
    "        a = self.func(np.interp(self.xmin, self.freq_data, self.lum_data))\n",
    "        b = self.func(np.interp(self.xmax, self.freq_data, self.lum_data))\n",
    "        s = 0.5*(a+b)\n",
    "        \n",
    "        for k in np.arange(1,self.N,1):\n",
    "            s += self.func(np.interp(self.xmin + k*h, self.freq_data, self.lum_data))\n",
    "        \n",
    "        result = h*s\n",
    "        rel_err = abs((self.exact-result)/self.exact)\n",
    "    \n",
    "        if self.verbose:\n",
    "            print(f\"\\nIntegral with trapezoid rule: {result:.6g}\")\n",
    "            print(f\"Rel. error {rel_err:.6g} with {self.N} bins.\")\n",
    "        \n",
    "        return result, rel_err \n",
    "    \n",
    "    def simpson(self):\n",
    "        h = (self.xmax-self.xmin)/self.N\n",
    "        \n",
    "        a = self.func(np.interp(self.xmin, self.freq_data, self.lum_data))\n",
    "        b = self.func(np.interp(self.xmax, self.freq_data, self.lum_data))\n",
    "        s = a+b\n",
    "        tmp_sum = 0.0\n",
    "    \n",
    "        for k in np.arange(1,self.N,1):\n",
    "            tmp = self.func(np.interp(self.xmin + k*h, self.freq_data, self.lum_data))\n",
    "        \n",
    "            if k%2 == 0:            \n",
    "                tmp *= 2\n",
    "            else:\n",
    "                tmp *= 4\n",
    "            tmp_sum += tmp\n",
    "   \n",
    "        s_tot = s + tmp_sum\n",
    "        result = s_tot*h/3.0\n",
    "        \n",
    "        rel_err = abs((self.exact-result)/self.exact)\n",
    "    \n",
    "        if self.verbose:\n",
    "            print(f\"\\nIntegral with Simpson's rule: {result:.6g}\")\n",
    "            print(f\"Rel. error {rel_err:.6g} with {self.N} bins.\")\n",
    "        \n",
    "        return result, rel_err\n",
    "    \n"
   ]
  },
  {
   "cell_type": "code",
   "execution_count": 5,
   "metadata": {},
   "outputs": [],
   "source": [
    "def lum_func(val):\n",
    "    '''\n",
    "    This is a function for integration. It takes,\n",
    "        val : luminosity value from the data (unit: log10 W)\n",
    "    as an input and returns \n",
    "        f_val : 10 to the power of input value then multiplied with natural log.    \n",
    "    '''\n",
    "    f_val = 10**(val)*math.log(10)\n",
    "    return f_val"
   ]
  },
  {
   "cell_type": "markdown",
   "metadata": {},
   "source": [
    "<hr style=\"height:2px;border-width:0;color:blue;background-color:blue\">"
   ]
  },
  {
   "cell_type": "markdown",
   "metadata": {},
   "source": [
    "**3. For each of these integration methods, have your code perform the integration over\n",
    "the entire spectrum to calculate the total luminosity, and print the results. You should\n",
    "also calculate the relative error for each method, given that the true total luminosity\n",
    "of the quasar is $L_{tot,exact} = 2.195102 ×1039$ W.**"
   ]
  },
  {
   "cell_type": "code",
   "execution_count": 6,
   "metadata": {},
   "outputs": [],
   "source": [
    "# min_freq & max_freq : minimum & maximum value of given frequency data in column 1 of input data file\n",
    "\n",
    "min_freq, max_freq = min(freq_data), max(freq_data)\n",
    "L_exact = 2.195102e+39 # Unit =  W "
   ]
  },
  {
   "cell_type": "code",
   "execution_count": 7,
   "metadata": {},
   "outputs": [
    {
     "name": "stdout",
     "output_type": "stream",
     "text": [
      "\n",
      "Integral with rectangle rule: 2.18484e+39\n",
      "Rel. error 0.00467378 with 6 bins.\n"
     ]
    }
   ],
   "source": [
    "N_rect = 1 # No. of bins\n",
    "erel_rect = 10000 # Random maximum initial relative error\n",
    "\n",
    "#'while' loop to obtain specified accuracy.\n",
    "# It takes the condition relative error < minimum accuracy required.\n",
    "while erel_rect > 0.01:\n",
    "    N_rect += 1\n",
    "    p = integrate(freq_data, lum_data, lum_func, N_rect, min_freq, max_freq, L_exact, verbose=False) # Objected created using THE 'class'\n",
    "    result_rect, erel_rect = p.rectangle() # accessing class method through object\n",
    "\n",
    "print(f\"\\nIntegral with rectangle rule: {result_rect:.6g}\")\n",
    "print(f\"Rel. error {erel_rect:.6g} with {N_rect} bins.\")\n",
    "        "
   ]
  },
  {
   "cell_type": "code",
   "execution_count": 8,
   "metadata": {},
   "outputs": [
    {
     "name": "stdout",
     "output_type": "stream",
     "text": [
      "\n",
      "Integral with trapezoidal rule: 2.20936e+39\n",
      "Rel. error 0.00649429 with 8 bins.\n"
     ]
    }
   ],
   "source": [
    "N_trap = 1\n",
    "erel_trap = 10000\n",
    "while erel_trap > 0.01:\n",
    "    N_trap += 1\n",
    "    q = integrate(freq_data, lum_data, lum_func, N_trap, min_freq, max_freq, L_exact, verbose=False)\n",
    "    result_trap, erel_trap = q.trapezoidal()\n",
    "    \n",
    "print(f\"\\nIntegral with trapezoidal rule: {result_trap:.6g}\")\n",
    "print(f\"Rel. error {erel_trap:.6g} with {N_trap} bins.\")"
   ]
  },
  {
   "cell_type": "code",
   "execution_count": 9,
   "metadata": {},
   "outputs": [
    {
     "name": "stdout",
     "output_type": "stream",
     "text": [
      "\n",
      "Integral with Simpson's rule: 2.2012e+39\n",
      "Rel. error 0.00277768 with 10 bins.\n"
     ]
    }
   ],
   "source": [
    "N_simp = 1\n",
    "erel_simp = 10000\n",
    "while erel_simp > 0.01:\n",
    "    N_simp += 1\n",
    "    r = integrate(freq_data, lum_data, lum_func, N_simp, min_freq, max_freq, L_exact, verbose=False)\n",
    "    result_simp, erel_simp = r.simpson()\n",
    "\n",
    "print(f\"\\nIntegral with Simpson's rule: {result_simp:.6g}\")\n",
    "print(f\"Rel. error {erel_simp:.6g} with {N_simp} bins.\")"
   ]
  },
  {
   "cell_type": "code",
   "execution_count": 10,
   "metadata": {},
   "outputs": [
    {
     "name": "stdout",
     "output_type": "stream",
     "text": [
      "\n",
      " Method \t\t No. of bins \t\t Integration Value \t\t Relative Error\n",
      "\n",
      "Rectangle Rule \t\t\t 6 \t\t 2.18484e+39 \t\t\t 0.004673779918522545\n",
      "Trapezoidal Rule \t\t 8 \t\t 2.20936e+39 \t\t\t 0.006494291603826903\n",
      "Simpson's Rule \t\t\t 10 \t\t 2.2012e+39 \t\t\t 0.0027776811021028055\n"
     ]
    }
   ],
   "source": [
    "# Printing all result at a place\n",
    "print(\"\\n Method \\t\\t No. of bins \\t\\t Integration Value \\t\\t Relative Error\\n\")\n",
    "print(f\"Rectangle Rule \\t\\t\\t {N_rect} \\t\\t {result_rect:.6g} \\t\\t\\t {erel_rect}\")\n",
    "print(f\"Trapezoidal Rule \\t\\t {N_trap} \\t\\t {result_trap:.6g} \\t\\t\\t {erel_trap}\")\n",
    "print(f\"Simpson's Rule \\t\\t\\t {N_simp} \\t\\t {result_simp:.6g} \\t\\t\\t {erel_simp}\")\n",
    "\n"
   ]
  },
  {
   "cell_type": "markdown",
   "metadata": {},
   "source": [
    "<hr style=\"height:2px;border-width:0;color:blue;background-color:blue\">"
   ]
  },
  {
   "cell_type": "markdown",
   "metadata": {},
   "source": [
    "**4. Compare the total luminosity of the quasar to the luminosity of the Sun. How many\n",
    "stars with the Sun’s luminosity would a galaxy need for its total stellar luminosity to\n",
    "equal the quasar’s luminosity? How does this compare to the approximate number\n",
    "of stars in the Milky Way galaxy?**"
   ]
  },
  {
   "cell_type": "markdown",
   "metadata": {},
   "source": [
    "<span style=\"color:orange\">**Answer:** </span> <span style=\"color:blue\"> The solar luminosity is $3.828e+26 W.$ The total solar luminosity along with the solar neutrino luminosity is $3.916e+26 W.$</span>\n"
   ]
  },
  {
   "cell_type": "code",
   "execution_count": 11,
   "metadata": {},
   "outputs": [
    {
     "name": "stdout",
     "output_type": "stream",
     "text": [
      "It needs 5.605470e+12 stars with the Sun's luminosity to equal the quasar's luminosity.\n"
     ]
    }
   ],
   "source": [
    "L_sun = 3.916e+26 # Total solar luminosity  #Unit = W\n",
    "L_quasar = L_exact # Given: Quasar's luminosity = 2.195102e+39 W\n",
    "\n",
    "print(f\"It needs {L_quasar/L_sun:e} stars with the Sun's luminosity to equal the quasar's luminosity.\")\n"
   ]
  },
  {
   "cell_type": "markdown",
   "metadata": {},
   "source": [
    "<span style=\"color:blue\"> Astronomers estimate there are about 100 billion stars in our Milky Way galaxy.  \n",
    "As per the above calculation:, </span>"
   ]
  },
  {
   "cell_type": "code",
   "execution_count": 12,
   "metadata": {},
   "outputs": [
    {
     "name": "stdout",
     "output_type": "stream",
     "text": [
      "It needs almost 56 times more stars than those are present in the Milky Way galaxy.\n"
     ]
    }
   ],
   "source": [
    "stars_milkyway = 100e9 # No. of stars in Milky Way galaxy\n",
    "print(f\"It needs almost {round(L_quasar/L_sun/stars_milkyway)} times more stars than those are present in the Milky Way galaxy.\")"
   ]
  },
  {
   "cell_type": "markdown",
   "metadata": {},
   "source": [
    "<hr style=\"height:2px;border-width:0;color:blue;background-color:blue\">"
   ]
  },
  {
   "cell_type": "markdown",
   "metadata": {},
   "source": [
    "**5. Finally, choose one of these integration methods and calculate the luminosity in only\n",
    "the visible portion of the spectrum (wavelength range λ = 400 −700 nm). What fraction of the quasar’s total luminosity is emitted in the visible portion of the spectrum?**"
   ]
  },
  {
   "cell_type": "code",
   "execution_count": 13,
   "metadata": {},
   "outputs": [
    {
     "name": "stdout",
     "output_type": "stream",
     "text": [
      "14.8750612633917\n",
      "14.632023214705406\n"
     ]
    }
   ],
   "source": [
    "# minimum & maximum values of given wavelength range\n",
    "min_lambda = 400e-9 # Unit = m, converted nm to m\n",
    "max_lambda = 700e-9\n",
    "\n",
    "c = 3e8 # Speed of light, unit = m/sec\n",
    "# Frequency & wavelength relationship: \\nu = c /lambda\n",
    "\n",
    "\n",
    "# minimum & maximum limit of integration \n",
    "# in the form log10(frequency)\n",
    "# Unit : log10 (Hz)\n",
    "min_lim = math.log10(c/min_lambda) \n",
    "max_lim = math.log10(c/max_lambda)\n",
    "print(min_lim)\n",
    "print(max_lim)"
   ]
  },
  {
   "cell_type": "code",
   "execution_count": 14,
   "metadata": {},
   "outputs": [
    {
     "name": "stdout",
     "output_type": "stream",
     "text": [
      "\n",
      "Integral with Simpson's rule: 2.19461e+39\n",
      "Rel. error 0.000223487 with 2 bins.\n"
     ]
    }
   ],
   "source": [
    "N_vis_simp = 1\n",
    "erel_vis_simp = 10000\n",
    "while erel_vis_simp > 0.005:\n",
    "    N_vis_simp += 1\n",
    "    vis = integrate(freq_data, lum_data, lum_func, 296, min_freq, max_freq, L_exact, verbose=False)\n",
    "    result_vis_simp, erel_vis_simp = vis.simpson()\n",
    "\n",
    "print(f\"\\nIntegral with Simpson's rule: {result_vis_simp:.6g}\")\n",
    "print(f\"Rel. error {erel_vis_simp:.6g} with {N_vis_simp} bins.\")"
   ]
  },
  {
   "cell_type": "code",
   "execution_count": 15,
   "metadata": {},
   "outputs": [
    {
     "name": "stdout",
     "output_type": "stream",
     "text": [
      "\n",
      "Integral with Simpson's rule: 2.19461e+39\n",
      "Rel. error 0.000223487 with 296 bins.\n"
     ]
    }
   ],
   "source": [
    "# Just trying with #bins = #given data points\n",
    "s = integrate(freq_data, lum_data, lum_func, 296, min_freq, max_freq, L_exact, verbose=True)\n",
    "result_vis, erel_vis = s.simpson()"
   ]
  },
  {
   "cell_type": "code",
   "execution_count": 16,
   "metadata": {},
   "outputs": [
    {
     "name": "stdout",
     "output_type": "stream",
     "text": [
      "Given value of quasar's total luminosity = 2.195102e+39 W.\n",
      "\n",
      "Fraction of 0.9997765128120366 quasar's total luminosity is emitted in the visible portion of spectrum.\n"
     ]
    }
   ],
   "source": [
    "L_quasar = L_exact # Given: Quasar's luminosity = 2.195102e+39 W\n",
    "print(\"Given value of quasar's total luminosity =\", L_quasar, \"W.\")\n",
    "\n",
    "print(f\"\\nFraction of {result_vis/L_quasar} quasar's total luminosity is emitted in the visible portion of spectrum.\")\n"
   ]
  },
  {
   "cell_type": "markdown",
   "metadata": {},
   "source": [
    "<hr style=\"height:2px;border-width:0;color:orange;background-color:orange\">\n",
    "<hr style=\"height:2px;border-width:0;color:blue;background-color:blue\">"
   ]
  },
  {
   "cell_type": "markdown",
   "metadata": {},
   "source": [
    "<center><h2><b>Bonus: Another Approach</b></h2></center>"
   ]
  },
  {
   "cell_type": "code",
   "execution_count": 17,
   "metadata": {},
   "outputs": [],
   "source": [
    "# Read data from input file\n",
    "# freq_data == Column 1 --> Unit = log_10 Hz\n",
    "# lum_data == column 2 --> Unit = log_10 W\n",
    "freq_data, lum_data = np.loadtxt(\"quasar_spectrum.txt\", usecols = (0,1), unpack =\"True\")\n"
   ]
  },
  {
   "cell_type": "code",
   "execution_count": 18,
   "metadata": {},
   "outputs": [
    {
     "name": "stdout",
     "output_type": "stream",
     "text": [
      "Given frequency data = \n",
      " [12.52 12.54 12.56 12.58 12.6  12.62 12.64 12.66 12.68 12.7  12.72 12.74\n",
      " 12.76 12.78 12.8  12.82 12.84 12.86 12.88 12.9  12.92 12.94 12.96 12.98\n",
      " 13.   13.02 13.04 13.06 13.08 13.1  13.12 13.14 13.16 13.18 13.2  13.22\n",
      " 13.24 13.26 13.28 13.3  13.32 13.34 13.36 13.38 13.4  13.42 13.44 13.46\n",
      " 13.48 13.5  13.52 13.54 13.56 13.58 13.6  13.62 13.64 13.66 13.68 13.7\n",
      " 13.72 13.74 13.76 13.78 13.8  13.82 13.84 13.86 13.88 13.9  13.92 13.94\n",
      " 13.96 13.98 14.   14.02 14.04 14.06 14.08 14.1  14.12 14.14 14.16 14.18\n",
      " 14.2  14.22 14.24 14.26 14.28 14.3  14.32 14.34 14.36 14.38 14.4  14.42\n",
      " 14.44 14.46 14.48 14.5  14.52 14.54 14.56 14.58 14.6  14.62 14.64 14.66\n",
      " 14.68 14.7  14.72 14.74 14.76 14.78 14.8  14.82 14.84 14.86 14.88 14.9\n",
      " 14.92 14.94 14.96 14.98 15.   15.02 15.04 15.06 15.08 15.1  15.12 15.14\n",
      " 15.16 15.18 15.2  15.22 15.24 15.26 15.28 15.3  15.32 15.34 15.36 15.38\n",
      " 15.4  15.42 15.44 15.46 15.48 15.5  15.52 15.54 15.56 15.58 15.6  15.62\n",
      " 15.64 15.66 15.68 15.7  15.72 15.74 15.76 15.78 15.8  15.82 15.84 15.86\n",
      " 15.88 15.9  15.92 15.94 15.96 15.98 16.   16.02 16.04 16.06 16.08 16.1\n",
      " 16.12 16.14 16.16 16.18 16.2  16.22 16.24 16.26 16.28 16.3  16.32 16.34\n",
      " 16.36 16.38 16.4  16.42 16.44 16.46 16.48 16.5  16.52 16.54 16.56 16.58\n",
      " 16.6  16.62 16.64 16.66 16.68 16.7  16.72 16.74 16.76 16.78 16.8  16.82\n",
      " 16.84 16.86 16.88 16.9  16.92 16.94 16.96 16.98 17.   17.02 17.04 17.06\n",
      " 17.08 17.1  17.12 17.14 17.16 17.18 17.2  17.22 17.24 17.26 17.28 17.3\n",
      " 17.32 17.34 17.36 17.38 17.4  17.42 17.44 17.46 17.48 17.5  17.52 17.54\n",
      " 17.56 17.58 17.6  17.62 17.64 17.66 17.68 17.7  17.72 17.74 17.76 17.78\n",
      " 17.8  17.82 17.84 17.86 17.88 17.9  17.92 17.94 17.96 17.98 18.   18.02\n",
      " 18.04 18.06 18.08 18.1  18.12 18.14 18.16 18.18 18.2  18.22 18.24 18.26\n",
      " 18.28 18.3  18.32 18.34 18.36 18.38 18.4  18.42]\n",
      "\n",
      "\n",
      "Total number of data points = 296 \n",
      "\n"
     ]
    }
   ],
   "source": [
    "# Printing given data for observation\n",
    "print(\"Given frequency data = \\n\", freq_data)\n",
    "print(\"\\n\\nTotal number of data points =\", np.size(freq_data), \"\\n\")"
   ]
  },
  {
   "cell_type": "markdown",
   "metadata": {},
   "source": [
    "**Observation:** Given data points of frequency ($log_{10} \\nu$)\n",
    "\n",
    "    1. Are at the interval of 0.02. This value can be used as a step size.\n",
    "    2. Are 296 in numbers. Therefore, no. of bins for integration can be set to 296."
   ]
  },
  {
   "cell_type": "code",
   "execution_count": 56,
   "metadata": {},
   "outputs": [
    {
     "name": "stdout",
     "output_type": "stream",
     "text": [
      "(#dimensions, #data points) in the data array =  (2, 296)\n",
      "(frequency, luminosity) = (12.52, 37.49)\n"
     ]
    }
   ],
   "source": [
    "# Loading all given data in one single array\n",
    "data = np.loadtxt(\"quasar_spectrum.txt\", usecols = (0,1), unpack =\"True\") \n",
    "\n",
    "#print(data)\n",
    "print(\"(#dimensions, #data points) in the data array = \", data.shape) \n",
    "\n",
    "\n",
    "# Printing sample data point\n",
    "print(f\"(frequency, luminosity) = ({data[0][0]}, {data[1][0]})\")"
   ]
  },
  {
   "cell_type": "code",
   "execution_count": 20,
   "metadata": {},
   "outputs": [],
   "source": [
    "step_size = 0.02 # step_size based on given data\n",
    "nbins = 296 # no. of bins = no. of given data points"
   ]
  },
  {
   "cell_type": "code",
   "execution_count": 21,
   "metadata": {},
   "outputs": [
    {
     "name": "stdout",
     "output_type": "stream",
     "text": [
      "<class 'numpy.ndarray'>\n"
     ]
    }
   ],
   "source": [
    "# print data type \n",
    "print(type(freq_data))"
   ]
  },
  {
   "cell_type": "code",
   "execution_count": 78,
   "metadata": {},
   "outputs": [],
   "source": [
    "class integrate:\n",
    "    '''Class 'integrate' constitutes integration methods,\n",
    "        1. Rectangle Rule\n",
    "        2. Trapezoidal Rule\n",
    "        3. Simpson's Rule, \n",
    "        \n",
    "        along with common variables, defined in '__init__' function, which are used as parameters by constituting methods. \n",
    "    \n",
    "    Each method calculates following variables:\n",
    "    h :  step size\n",
    "    s OR s_tot : sum over integration functions\n",
    "    result : value of integration using THE method\n",
    "    rel_err : relative error    \n",
    "    \n",
    "    '''\n",
    "    def __init__(self,data, func, h,  exact, verbose=True):\n",
    "        self.data = data # array of input data of frequency & luminosity\n",
    "        self.func = func # function to integrate over\n",
    "        self.h = h # step size\n",
    "        self.exact = exact # exact value of integration function\n",
    "        self.verbose = verbose # keyword to print data\n",
    "        #N = self.data.shape[1] # No.of data points\n",
    "        \n",
    "        \n",
    "    def rectangle(self):\n",
    "        s = 0.0\n",
    "        result = 0.0\n",
    "        rel_err = 0.0\n",
    "    \n",
    "        for freq in self.data[0]: #loop over frequency values\n",
    "            #print(freq)\n",
    "            #print(np.where(self.data[0] == freq))\n",
    "            #print(self.data[1][np.where(self.data[0] == freq)])\n",
    "            s += self.func(self.data[1][np.where(self.data[0] == freq)]) #passing corresponding luminosity values to 'func'\n",
    "            \n",
    "        result = self.h*s\n",
    "        rel_err = abs((self.exact-result)/self.exact)\n",
    "        \n",
    "        if self.verbose:\n",
    "            print(f\"\\nIntegral with rectangle rule: {result[0]:.6g}\")\n",
    "            print(f\"Rel. error {rel_err[0]:.6g} with {self.data.shape[1]} bins.\")\n",
    "        \n",
    "        return result, rel_err\n",
    "    \n",
    "    \n",
    "    def trapezoidal(self):\n",
    "        # a : value of integration function at xmin\n",
    "        # b : value of integration function at xmax\n",
    "        a = self.func(min(self.data[0]))\n",
    "        b = self.func(max(self.data[0]))\n",
    "        \n",
    "        s = 0.5*(a+b)\n",
    "        \n",
    "        for k in np.arange(1,self.data.shape[1]-1,1):\n",
    "            s += self.func(self.data[1][k])\n",
    "        result = self.h*s\n",
    "        rel_err = abs((self.exact-result)/self.exact)\n",
    "        \n",
    "        if self.verbose:\n",
    "            print(f\"\\nIntegral with trapezoid rule: {result:.6g}\")\n",
    "            print(f\"Rel. error {rel_err:.6g} with {self.data.shape[1]} bins.\")\n",
    "        \n",
    "    \n",
    "        return result, rel_err \n",
    "    \n",
    "    def simpson(self):\n",
    "        # a : value of integration function at xmin\n",
    "        # b : value of integration function at xmax\n",
    "        a = self.func(min(self.data[0]))\n",
    "        b = self.func(max(self.data[0]))\n",
    "          \n",
    "        s = a+b\n",
    "        tmp_sum = 0.0\n",
    "    \n",
    "        for k in np.arange(1,self.data.shape[1]-1,1):\n",
    "            tmp = self.func(self.data[1][k])\n",
    "            \n",
    "            if k%2 == 0:            \n",
    "                tmp *= 2\n",
    "            else:\n",
    "                tmp *= 4\n",
    "            tmp_sum += tmp\n",
    "   \n",
    "        s_tot = s + tmp_sum\n",
    "        result = s_tot*self.h/3.0\n",
    "        \n",
    "        rel_err = abs((self.exact-result)/self.exact)\n",
    "    \n",
    "        if self.verbose:\n",
    "            print(f\"\\nIntegral with Simpson's rule: {result:.6g}\")\n",
    "            print(f\"Rel. error {rel_err:.6g} with {self.data.shape[1]} bins.\")\n",
    "        \n",
    "        return result, rel_err\n",
    "    \n"
   ]
  },
  {
   "cell_type": "code",
   "execution_count": 79,
   "metadata": {},
   "outputs": [],
   "source": [
    "def lum_func(val):\n",
    "    '''\n",
    "    This is a function for integration. It takes,\n",
    "        val : luminosity value from the data (unit: log10 W)\n",
    "    as an input and returns \n",
    "        f_val : 10 to the power of input value then multiplied with natural log.    \n",
    "    '''\n",
    "    f_val = 10**(val)*math.log(10)\n",
    "    return f_val"
   ]
  },
  {
   "cell_type": "code",
   "execution_count": 80,
   "metadata": {},
   "outputs": [
    {
     "name": "stdout",
     "output_type": "stream",
     "text": [
      "Quasar's exact total luminosity =  2.195102e+39 \n",
      "\n",
      "\n",
      "\n",
      "Integral with rectangle rule: 2.19622e+39\n",
      "Rel. error 0.000511327 with 296 bins.\n"
     ]
    }
   ],
   "source": [
    "print(\"Quasar's exact total luminosity = \", L_exact, \"\\n\\n\")\n",
    "t = integrate(data, lum_func, step_size, L_exact, verbose=True) # Objected created using THE 'class'\n",
    "result_rect, erel_rect = t.rectangle() # accessing class method through object\n"
   ]
  },
  {
   "cell_type": "code",
   "execution_count": 81,
   "metadata": {},
   "outputs": [
    {
     "name": "stdout",
     "output_type": "stream",
     "text": [
      "\n",
      "Integral with trapezoid rule: 2.19396e+39\n",
      "Rel. error 0.000518756 with 296 bins.\n"
     ]
    }
   ],
   "source": [
    "trapz = integrate(data, lum_func, step_size, L_exact, verbose=True) # Objected created using THE 'class'\n",
    "result_trapz, erel_trapz = trapz.trapezoidal() # accessing class method through object\n"
   ]
  },
  {
   "cell_type": "code",
   "execution_count": 82,
   "metadata": {},
   "outputs": [
    {
     "name": "stdout",
     "output_type": "stream",
     "text": [
      "\n",
      "Integral with Simpson's rule: 2.19354e+39\n",
      "Rel. error 0.000711066 with 296 bins.\n"
     ]
    }
   ],
   "source": [
    "simps = integrate(data, lum_func, step_size, L_exact, verbose=True) # Objected created using THE 'class'\n",
    "result_simps, erel_simps = simps.simpson() # accessing class method through object\n"
   ]
  },
  {
   "cell_type": "code",
   "execution_count": 83,
   "metadata": {},
   "outputs": [
    {
     "name": "stdout",
     "output_type": "stream",
     "text": [
      "**********For Integration over all data points**********\n",
      "\n",
      " Method \t\t  Integration Value \t\t Relative Error\n",
      "\n",
      "Rectangle Rule  \t\t 2.19622e+39 \t\t\t 0.0005113266317836322\n",
      "Trapezoidal Rule  \t\t 2.19396e+39 \t\t\t 0.0005187561859257225\n",
      "Simpson's Rule \t\t\t 2.19354e+39 \t\t\t 0.0007110662985214786\n"
     ]
    }
   ],
   "source": [
    "# Printing all result at a place\n",
    "print (\"**********For Integration over all data points**********\")\n",
    "print(\"\\n Method \\t\\t  Integration Value \\t\\t Relative Error\\n\")\n",
    "print(f\"Rectangle Rule  \\t\\t {result_rect[0]:.6g} \\t\\t\\t {erel_rect[0]}\")\n",
    "print(f\"Trapezoidal Rule  \\t\\t {result_trapz:.6g} \\t\\t\\t {erel_trapz}\")\n",
    "print(f\"Simpson's Rule \\t\\t\\t {result_simps:.6g} \\t\\t\\t {erel_simps}\")\n",
    "\n"
   ]
  },
  {
   "cell_type": "code",
   "execution_count": null,
   "metadata": {},
   "outputs": [],
   "source": []
  },
  {
   "cell_type": "code",
   "execution_count": null,
   "metadata": {},
   "outputs": [],
   "source": []
  }
 ],
 "metadata": {
  "kernelspec": {
   "display_name": "UFRC Python-3.8",
   "language": "python",
   "name": "python3-3.8-ufrc"
  },
  "language_info": {
   "codemirror_mode": {
    "name": "ipython",
    "version": 3
   },
   "file_extension": ".py",
   "mimetype": "text/x-python",
   "name": "python",
   "nbconvert_exporter": "python",
   "pygments_lexer": "ipython3",
   "version": "3.8.5"
  }
 },
 "nbformat": 4,
 "nbformat_minor": 4
}
