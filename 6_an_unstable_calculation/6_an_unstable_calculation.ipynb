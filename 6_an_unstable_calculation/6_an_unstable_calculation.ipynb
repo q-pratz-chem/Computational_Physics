{
 "cells": [
  {
   "cell_type": "markdown",
   "metadata": {},
   "source": [
    "<center><h4><b>PHY4905/5905: Computational Physics – Spring 2022</b></h4></center>\n",
    "<center><h4><b>Homework #2</b></h4></center>\n",
    "<center><h4><b>Code Author: Pratiksha Balasaheb Gaikwad</b></h4></center>\n",
    "<hr style=\"height:2px;border-width:0;color:orange;background-color:orange\">\n",
    "<hr style=\"height:2px;border-width:0;color:blue;background-color:blue\">\n",
    "\n"
   ]
  },
  {
   "cell_type": "markdown",
   "metadata": {},
   "source": [
    "<center><b>An Unstable Calculation</b></center>\n",
    "\n",
    "Consider the following sequence and recurrence relation:\n",
    "$$x_0 = 1, x_1 = \\frac{1}{5}, x_{n+1} = \\frac{11}{5}x_n − \\frac{2}{5}x_{n−1}$$\n",
    "\n",
    "which is equivalent to\n",
    "$$x_n = (\\frac{1}{5})^n$$\n"
   ]
  },
  {
   "cell_type": "code",
   "execution_count": 1,
   "metadata": {},
   "outputs": [],
   "source": [
    "import numpy as np\n",
    "import math\n",
    "import matplotlib.pyplot as plt"
   ]
  },
  {
   "cell_type": "code",
   "execution_count": 2,
   "metadata": {},
   "outputs": [],
   "source": [
    "def recurrence(nmax, x0, x1, prec):\n",
    "    '''\n",
    "    Recurrence function takes following parameters & returns array with all x_n values.\n",
    "    \n",
    "    PARAMETERS\n",
    "    nmax : to set max value of range of 'n' values ranging from 0\n",
    "    x : array of x_n values with first two initial values\n",
    "    prec : takes single OR double precision\n",
    "    '''\n",
    "    \n",
    "    # array for range of n values\n",
    "    n_vals = np.arange(0,nmax+1,1)\n",
    "    x_vals = np.array([x0, x1])# dtype=prec)\n",
    "    \n",
    "    # Loop to calculate all possible x_{n+1} == new_xn values\n",
    "    for n in np.arange(1, np.size(n_vals)):\n",
    "        new_xn = (11.0*x_vals[n]/5.0)-(2.0*x_vals[n-1]/5.0)\n",
    "        x_vals = np.append(x_vals, new_xn)\n",
    "        \n",
    "    return x_vals, n_vals"
   ]
  },
  {
   "cell_type": "code",
   "execution_count": 3,
   "metadata": {},
   "outputs": [],
   "source": [
    "def exact_xn_1st(k, prec):\n",
    "    '''\n",
    "    Function returns the exact solution for xn value.\n",
    "    \n",
    "    It's 1st function out of two functions we'll be using to compare values in this exercise.\n",
    "    \n",
    "    PARAMETERS\n",
    "    k : (for k th value of x)\n",
    "    prec :takes input 'np.float32' or 'np.float64'(single- or double- precision) \n",
    "    '''\n",
    "    return prec(1/5)**k"
   ]
  },
  {
   "cell_type": "code",
   "execution_count": 4,
   "metadata": {},
   "outputs": [],
   "source": [
    "# Computing absolute & relative error\n",
    "\n",
    "def err_calc(fx_exact, x_vals, n_vals, verbose=\"True\"):\n",
    "    '''Function calculates, stores and returns the arrays of relative & absolute errors at 'n' values.\n",
    "    \n",
    "    PARAMETERS\n",
    "    fx_exact : function to calculate exact x_n value\n",
    "    x_vals   : array of 'x_n' values obtained from 'recurrence' function\n",
    "    n_vals   : array of 'n' values generated in the 'recurrence' function\n",
    "    verbose  : Is set to either \"True\" - to print errors at each 'n' value otherwise  to \"False\"   \n",
    "    '''\n",
    "    eabs_vals = np.zeros(np.size(n_vals))\n",
    "    erel_vals = np.zeros(np.size(n_vals))\n",
    "    \n",
    "    #for n in np.arange(0, np.size(n_vals)):\n",
    "    for n in n_vals:\n",
    "\n",
    "        exact = fx_exact(n_vals[n], prec)\n",
    "        eabs_vals[n] = abs(exact - x_vals[n])\n",
    "        erel_vals[n] = abs((exact - x_vals[n])/exact)\n",
    "        \n",
    "        if verbose == \"True\":\n",
    "            #print(f\"{n} \\t {erel_vals[n]} \\t\\t {eabs_vals[n]} \\n\")\n",
    "            print(f\"{n} \\t {exact:>22} \\t {x_vals[n]:>22} \\t\\t {erel_vals[n]:>22} \\t\\t {eabs_vals[n]:>22}\\n\")\n",
    "\n",
    "    return erel_vals, eabs_vals\n",
    "    "
   ]
  },
  {
   "cell_type": "markdown",
   "metadata": {},
   "source": [
    "**(a)** Implement the recurrence relation for $n = 0, ...,4$ using single-precision floating point numbers. Compute the absolute and relative error with respect to the exact solution $x_n= (1/5)^n$. How big are the relative and absolute error at $n = 4$? What if you go to $n = 20$?"
   ]
  },
  {
   "cell_type": "code",
   "execution_count": 40,
   "metadata": {},
   "outputs": [],
   "source": [
    "# Setting single-precision\n",
    "prec = np.float32\n",
    "\n",
    "# Initial values\n",
    "x0 = np.float32(1)\n",
    "x1 = np.float32(1/5)\n"
   ]
  },
  {
   "cell_type": "code",
   "execution_count": 41,
   "metadata": {},
   "outputs": [],
   "source": [
    "# Implementing recurrence relation for n=0,...,4\n",
    "nmax = 4\n",
    "x,n = recurrence(nmax, x0, x1, prec)\n"
   ]
  },
  {
   "cell_type": "code",
   "execution_count": 44,
   "metadata": {},
   "outputs": [],
   "source": [
    "# Printing calculations at each 'n' value\n",
    "# if prec == np.float32:\n",
    "#     print(\"\\n-------Calculations with single-precision floating-point numbers.-------\\n\")\n",
    "# else:\n",
    "#     print(\"\\n-------Calculations with double-precision floating-point numbers.-------\\n\")\n",
    "\n",
    "\n",
    "# Printing errors at 'n' value\n",
    "#print(f\"n \\t  Relative Error \\t\\t\\t Absolute Error \\n\")\n",
    "# print(f\"n \\t Exact Value \\t\\t Recurrence value \\t\\t Relative Error \\t\\t Absolute Error\\n\")\n",
    "\n",
    "# Set verbose=\"True\" to print errors at each 'n'.\n",
    "erels_4s, eabs_4s = err_calc(exact_xn_1st, x, n, verbose=\"False\")  \n"
   ]
  },
  {
   "cell_type": "code",
   "execution_count": 45,
   "metadata": {},
   "outputs": [
    {
     "name": "stdout",
     "output_type": "stream",
     "text": [
      "\n",
      "-------Calculations with single-precision floating-point numbers.-------\n",
      "\n",
      "n \t Exact Value \t\t Recurrence value \t\t Relative Error \t\t\t Absolute Error \n",
      "\n",
      "4 \t 0.0016000000953674339 \t 0.0016000264883041307 \t\t1.6495584452303916e-05 \t\t 2.6392936696827823e-08 \n",
      "\n"
     ]
    }
   ],
   "source": [
    "# Printing calculations at n = 4 only\n",
    "if prec == np.float32:\n",
    "    print(\"\\n-------Calculations with single-precision floating-point numbers.-------\\n\")\n",
    "else:\n",
    "    print(\"\\n-------Calculations with double-precision floating-point numbers.-------\\n\")\n",
    "\n",
    "\n",
    "# Printing errors at 'n' value\n",
    "print(f\"n \\t Exact Value \\t\\t Recurrence value \\t\\t Relative Error \\t\\t\\t Absolute Error \\n\")\n",
    "\n",
    "# Set verbose=\"True\" to print errors at each 'n'.\n",
    "erels_4s, eabs_4s = err_calc(exact_xn_1st, x, n, verbose=\"False\")\n",
    "\n",
    "print(f\"{nmax} \\t {exact_xn_1st(nmax,prec)} \\t {x[nmax]} \\t\\t{erels_4s[nmax]} \\t\\t {eabs_4s[nmax]} \\n\") # Printing errors at n = 4\n",
    "            "
   ]
  },
  {
   "cell_type": "code",
   "execution_count": 47,
   "metadata": {},
   "outputs": [],
   "source": [
    "# Implementing recurrence relation for n=0,...,20\n",
    "nmax = 20\n",
    "x,n = recurrence(nmax, x0, x1, prec)\n"
   ]
  },
  {
   "cell_type": "code",
   "execution_count": 48,
   "metadata": {},
   "outputs": [
    {
     "name": "stdout",
     "output_type": "stream",
     "text": [
      "\n",
      "-------Calculations with single-precision floating-point numbers.-------\n",
      "\n",
      "n \t  Relative Error \t\t Absolute Error \n",
      "\n",
      "20 \t 165568408318.16425 \t\t 0.0017361111106076234 \n",
      "\n"
     ]
    }
   ],
   "source": [
    "\n",
    "# Printing calculations only at n = 20\n",
    "if prec == np.float32:\n",
    "    print(\"\\n-------Calculations with single-precision floating-point numbers.-------\\n\")\n",
    "else:\n",
    "    print(\"\\n-------Calculations with double-precision floating-point numbers.-------\\n\")\n",
    "\n",
    "\n",
    "# Printing errors at 'n' value\n",
    "print(f\"n \\t  Relative Error \\t\\t Absolute Error \\n\")\n",
    "\n",
    "# Set verbose=\"True\" to print errors at each 'n'.\n",
    "erels_20s, eabs_20s = err_calc(exact_xn_1st, x, n, verbose=\"False\")\n",
    "\n",
    "print(f\"{nmax} \\t {erels_20s[nmax]} \\t\\t {eabs_20s[nmax]} \\n\") # Printing errors at n = 20\n"
   ]
  },
  {
   "cell_type": "markdown",
   "metadata": {},
   "source": [
    "<hr style=\"height:2px;border-width:0;color:orange;background-color:orange\">"
   ]
  },
  {
   "cell_type": "markdown",
   "metadata": {},
   "source": [
    "<u><b>Observation for single-precision: Change in relative error from n=4 to n=20</b></u>"
   ]
  },
  {
   "cell_type": "code",
   "execution_count": 49,
   "metadata": {},
   "outputs": [
    {
     "name": "stdout",
     "output_type": "stream",
     "text": [
      "1.00e+16\n"
     ]
    }
   ],
   "source": [
    "scaling = '%.2e' % (erels_20s[20]/erels_4s[4])\n",
    "print(scaling)\n"
   ]
  },
  {
   "cell_type": "markdown",
   "metadata": {},
   "source": [
    "As we go from $n = 4$ to $n = 20$,  \n",
    "Scaling  ~ $10^{16} = 10^{(20-4)} = \\frac{10^{20}}{10^4}$.   \n",
    "Therefore, the relative error in calculation of $x_n$ with single-precision scales **almost** with $10^n$."
   ]
  },
  {
   "cell_type": "markdown",
   "metadata": {},
   "source": [
    "<hr style=\"height:2px;border-width:0;color:blue;background-color:blue\">"
   ]
  },
  {
   "cell_type": "markdown",
   "metadata": {},
   "source": [
    "**(b)** Repeat these calculations using double-precision floating point numbers. How big are the relative and absolute error at $n = 4$? What if you go to $n = 20$?"
   ]
  },
  {
   "cell_type": "code",
   "execution_count": 13,
   "metadata": {},
   "outputs": [],
   "source": [
    "# Setting single-precision\n",
    "prec = np.float64\n",
    "\n",
    "# Initial values\n",
    "x0 = np.float64(1)\n",
    "x1 = np.float64(1/5)"
   ]
  },
  {
   "cell_type": "code",
   "execution_count": 14,
   "metadata": {},
   "outputs": [],
   "source": [
    "# Implementing recurrence relation for n=0,...,4\n",
    "nmax = 4\n",
    "x,n = recurrence(nmax, x0, x1, prec)\n"
   ]
  },
  {
   "cell_type": "code",
   "execution_count": 50,
   "metadata": {},
   "outputs": [
    {
     "name": "stdout",
     "output_type": "stream",
     "text": [
      "\n",
      "-------Calculations with single-precision floating-point numbers.-------\n",
      "\n",
      "n \t  Relative Error \t\t\t Absolute Error \n",
      "\n",
      "20 \t 165568408318.16425 \t\t 0.0017361111106076234 \n",
      "\n"
     ]
    }
   ],
   "source": [
    "# Printing calculations at n = 4 \n",
    "if prec == np.float32:\n",
    "    print(\"\\n-------Calculations with single-precision floating-point numbers.-------\\n\")\n",
    "else:\n",
    "    print(\"\\n-------Calculations with double-precision floating-point numbers.-------\\n\")\n",
    "    \n",
    "# Printing errors at 'n' value\n",
    "print(f\"n \\t  Relative Error \\t\\t\\t Absolute Error \\n\")\n",
    "\n",
    "# Set verbose=\"True\" to print errors at each 'n'.\n",
    "erels_4d, eabs_4d = err_calc(exact_xn_1st, x, n, verbose=\"False\")\n",
    "\n",
    "print(f\"{nmax} \\t {erels_4d[nmax]} \\t\\t {eabs_4d[nmax]} \\n\") # Printing errors at n = 4\n"
   ]
  },
  {
   "cell_type": "code",
   "execution_count": 17,
   "metadata": {},
   "outputs": [],
   "source": [
    "# Implementing recurrence relation for n=0,...,20\n",
    "nmax = 20\n",
    "x,n = recurrence(nmax, x0, x1, prec)"
   ]
  },
  {
   "cell_type": "code",
   "execution_count": 19,
   "metadata": {},
   "outputs": [
    {
     "name": "stdout",
     "output_type": "stream",
     "text": [
      "\n",
      "-------Calculations with double-precision floating-point numbers.-------\n",
      "\n",
      "n \t  Relative Error \t\t Absolute Error \n",
      "\n",
      "20 \t 959.5942872055398 \t\t 1.0062075393008372e-11 \n",
      "\n"
     ]
    }
   ],
   "source": [
    "# Printing calculations at n = 20\n",
    "if prec == np.float32:\n",
    "    print(\"\\n-------Calculations with single-precision floating-point numbers.-------\\n\")\n",
    "else:\n",
    "    print(\"\\n-------Calculations with double-precision floating-point numbers.-------\\n\")\n",
    "\n",
    "\n",
    "# Printing errors at 'n' value\n",
    "print(f\"n \\t  Relative Error \\t\\t Absolute Error \\n\")\n",
    "\n",
    "# Set verbose=\"True\" to print errors at each 'n'.\n",
    "erels_20d, eabs_20d = err_calc(exact_xn_1st, x, n, verbose=\"False\")\n",
    "\n",
    "print(f\"{nmax} \\t {erels_20d[nmax]} \\t\\t {eabs_20d[nmax]} \\n\") # Printing errors at n = 20"
   ]
  },
  {
   "cell_type": "markdown",
   "metadata": {},
   "source": [
    "<hr style=\"height:2px;border-width:0;color:orange;background-color:orange\">"
   ]
  },
  {
   "cell_type": "markdown",
   "metadata": {},
   "source": [
    "<u><b>Observation for double-precision: Change in relative error from n=4 to n=20</u></b>"
   ]
  },
  {
   "cell_type": "code",
   "execution_count": 20,
   "metadata": {},
   "outputs": [
    {
     "name": "stdout",
     "output_type": "stream",
     "text": [
      "1.00e+16\n"
     ]
    }
   ],
   "source": [
    "scaling = '%.2e' % (erels_20d[20]/erels_4d[4])\n",
    "print(scaling)"
   ]
  },
  {
   "cell_type": "markdown",
   "metadata": {},
   "source": [
    "As we go from $n = 4$ to $n = 20$,  \n",
    "Scaling  is exactly equal to $10^{16} = 10^{(20-4)} = \\frac{10^{20}}{10^4}$.   \n",
    "Therefore, the relative error in calculation of $x_n$ with single-precision scales **exactly** with $10^n$."
   ]
  },
  {
   "cell_type": "markdown",
   "metadata": {},
   "source": [
    "<hr style=\"height:2px;border-width:0;color:orange;background-color:orange\">"
   ]
  },
  {
   "cell_type": "markdown",
   "metadata": {},
   "source": [
    "<u><b>Observation for n=4: Change in relative error from single- to double- precision</u></b>"
   ]
  },
  {
   "cell_type": "code",
   "execution_count": 21,
   "metadata": {},
   "outputs": [
    {
     "name": "stdout",
     "output_type": "stream",
     "text": [
      "Relative error with single-precision calculation is\n",
      " 1.72e+08 \n",
      "fold than that of with double-precision calculation.\n"
     ]
    }
   ],
   "source": [
    "scaling = '%.2e' % (erels_4s[4]/erels_4d[4])\n",
    "print(\"Relative error with single-precision calculation is\\n\",scaling, \"\\nfold than that of with double-precision calculation.\")\n"
   ]
  },
  {
   "cell_type": "markdown",
   "metadata": {},
   "source": [
    "<u><b>Observation for n=20: Change in relative error from single- to double- precision</u></b>"
   ]
  },
  {
   "cell_type": "code",
   "execution_count": 22,
   "metadata": {},
   "outputs": [
    {
     "name": "stdout",
     "output_type": "stream",
     "text": [
      "Relative error with single-precision calculation is\n",
      " 1.73e+08 \n",
      "fold than that of with double-precision calculation.\n"
     ]
    }
   ],
   "source": [
    "scaling = '%.2e' % (erels_20s[20]/erels_20d[20])\n",
    "print(\"Relative error with single-precision calculation is\\n\",scaling, \"\\nfold than that of with double-precision calculation.\")\n"
   ]
  },
  {
   "cell_type": "markdown",
   "metadata": {},
   "source": [
    "<hr style=\"height:2px;border-width:0;color:blue;background-color:blue\">"
   ]
  },
  {
   "cell_type": "markdown",
   "metadata": {},
   "source": [
    "<center><b>Graphs</b><center>"
   ]
  },
  {
   "cell_type": "code",
   "execution_count": 23,
   "metadata": {},
   "outputs": [
    {
     "data": {
      "image/png": "[encoded data removed]",
      "text/plain": [
       "<Figure size 432x288 with 1 Axes>"
      ]
     },
     "metadata": {
      "needs_background": "light"
     },
     "output_type": "display_data"
    }
   ],
   "source": [
    "n_vals = np.arange(0,5,1)\n",
    "\n",
    "fig, ax = plt.subplots()\n",
    "ax.plot(n_vals,erels_4s,  'c--',label='rel. err. single-prec')\n",
    "ax.plot(n_vals,erels_4d,  'm--',label='rel. err. double-prec')\n",
    "legend = ax.legend(loc='best', fontsize='large')\n",
    "\n",
    "ax.set_title('Relative error vs n-values')\n",
    "ax.set_xlabel(\"n values\")\n",
    "ax.set_ylabel('Relative error')\n",
    "\n",
    "plt.show()"
   ]
  },
  {
   "cell_type": "code",
   "execution_count": 24,
   "metadata": {},
   "outputs": [
    {
     "data": {
      "image/png": "[encoded data removed]",
      "text/plain": [
       "<Figure size 432x288 with 1 Axes>"
      ]
     },
     "metadata": {
      "needs_background": "light"
     },
     "output_type": "display_data"
    }
   ],
   "source": [
    "n_vals = np.arange(0,21,1)\n",
    "\n",
    "fig, ax = plt.subplots()\n",
    "ax.plot(n_vals,erels_20s, 'r--', label='rel. err. single-prec')\n",
    "ax.plot(n_vals,erels_20d, 'b--', label='rel. err. double-prec')\n",
    "legend = ax.legend(loc='best', fontsize='large')\n",
    "\n",
    "ax.set_title('Relative error vs n-values')\n",
    "ax.set_xlabel(\"n values\")\n",
    "ax.set_ylabel('Relative error')\n",
    "plt.show()"
   ]
  },
  {
   "cell_type": "markdown",
   "metadata": {},
   "source": [
    "<hr style=\"height:2px;border-width:0;color:blue;background-color:blue\">"
   ]
  },
  {
   "cell_type": "markdown",
   "metadata": {},
   "source": [
    "\n",
    "**(c)** Now do the same using this relation with $x_0 = 1 \\& x_1 = 2$, and compare it to $x_n= 2^n$. Go to $n = 20$. Why is this calculation more stable?"
   ]
  },
  {
   "cell_type": "code",
   "execution_count": 25,
   "metadata": {},
   "outputs": [],
   "source": [
    "def exact_xn_2nd(k, prec):\n",
    "    '''\n",
    "    Function returns the exact solution for xn value.\n",
    "    \n",
    "    It's 1st function out of two functions we'll be using to compare values in this exercise.\n",
    "    \n",
    "    PARAMETERS\n",
    "    k : (for k th value of x)\n",
    "    prec :takes input 'np.float32' or 'np.float64'(single- or double- precision) \n",
    "    '''\n",
    "    return prec(2**k)"
   ]
  },
  {
   "cell_type": "markdown",
   "metadata": {},
   "source": [
    "<center><b><u>With single-precision</u></b></center>"
   ]
  },
  {
   "cell_type": "code",
   "execution_count": 26,
   "metadata": {},
   "outputs": [],
   "source": [
    "# Setting single-precision\n",
    "prec = np.float32\n",
    "\n",
    "# Initial values\n",
    "x0 = np.float32(1)\n",
    "x1 = np.float32(2)"
   ]
  },
  {
   "cell_type": "code",
   "execution_count": 27,
   "metadata": {},
   "outputs": [],
   "source": [
    "# Implementing recurrence relation for n=0,...,4\n",
    "nmax = 4\n",
    "x,n = recurrence(nmax, x0, x1, prec)"
   ]
  },
  {
   "cell_type": "code",
   "execution_count": 51,
   "metadata": {},
   "outputs": [
    {
     "name": "stdout",
     "output_type": "stream",
     "text": [
      "\n",
      "-------Calculations with single-precision floating-point numbers.-------\n",
      "\n",
      "n \t  Relative Error \t\t\t Absolute Error \n",
      "\n",
      "20 \t 0.9999999983443154 \t\t\t\t\t 1048575.9982638889 \n",
      "\n"
     ]
    }
   ],
   "source": [
    "# Printing calculations at n = 4\n",
    "if prec == np.float32:\n",
    "    print(\"\\n-------Calculations with single-precision floating-point numbers.-------\\n\")\n",
    "else:\n",
    "    print(\"\\n-------Calculations with double-precision floating-point numbers.-------\\n\")\n",
    "\n",
    "# Printing errors at 'n' value\n",
    "print(f\"n \\t  Relative Error \\t\\t\\t Absolute Error \\n\")\n",
    "\n",
    "# Set verbose=\"True\" to print errors at each 'n'.\n",
    "# Set function 'exact_xn_2nd' to calculate exact values.\n",
    "erels_4s, eabs_4s = err_calc(exact_xn_2nd, x, n, verbose=\"False\")\n",
    "\n",
    "print(f\"{nmax} \\t {erels_4s[nmax]} \\t\\t\\t\\t\\t {eabs_4s[nmax]} \\n\") # Printing errors at n = 4"
   ]
  },
  {
   "cell_type": "code",
   "execution_count": 30,
   "metadata": {},
   "outputs": [],
   "source": [
    "# Implementing recurrence relation for n=0,...,20\n",
    "nmax = 20\n",
    "x,n = recurrence(nmax, x0, x1, prec)"
   ]
  },
  {
   "cell_type": "code",
   "execution_count": 31,
   "metadata": {},
   "outputs": [
    {
     "name": "stdout",
     "output_type": "stream",
     "text": [
      "\n",
      "-------Calculations with single-precision floating-point numbers.-------\n",
      "\n",
      "n \t Exact Value \t\t\t\t Recurrence value \t\t\t Relative Error \t\t\t Absolute Error \n",
      "\n"
     ]
    }
   ],
   "source": [
    "# Printing calculations at each 'n' value\n",
    "if prec == np.float32:\n",
    "    print(\"\\n-------Calculations with single-precision floating-point numbers.-------\\n\")\n",
    "else:\n",
    "    print(\"\\n-------Calculations with double-precision floating-point numbers.-------\\n\")\n",
    "\n",
    "    \n",
    "# Printing errors at 'n' value\n",
    "print(f\"n \\t Exact Value \\t\\t\\t\\t Recurrence value \\t\\t\\t Relative Error \\t\\t\\t Absolute Error \\n\")\n",
    "\n",
    "# Set verbose=\"True\" to print errors at each 'n'.\n",
    "erels_20s, eabs_20s = err_calc(exact_xn_2nd, x, n, verbose=\"False\")\n",
    "\n"
   ]
  },
  {
   "cell_type": "code",
   "execution_count": 32,
   "metadata": {},
   "outputs": [
    {
     "name": "stdout",
     "output_type": "stream",
     "text": [
      "\n",
      "-------Calculations with single-precision floating-point numbers.-------\n",
      "\n",
      "n \t  Relative Error \t\t Absolute Error \n",
      "\n",
      "20 \t 0.0 \t\t\t\t 0.0 \n",
      "\n"
     ]
    }
   ],
   "source": [
    "# Printing calculations at n = 20\n",
    "if prec == np.float32:\n",
    "    print(\"\\n-------Calculations with single-precision floating-point numbers.-------\\n\")\n",
    "else:\n",
    "    print(\"\\n-------Calculations with double-precision floating-point numbers.-------\\n\")\n",
    "\n",
    "    \n",
    "# Printing errors at 'n' value\n",
    "print(f\"n \\t  Relative Error \\t\\t Absolute Error \\n\")\n",
    "\n",
    "# Set verbose=\"True\" to print errors at each 'n'.\n",
    "erels_20s, eabs_20s = err_calc(exact_xn_2nd, x, n, verbose=\"False\")\n",
    "\n",
    "print(f\"{nmax} \\t {erels_20s[nmax]} \\t\\t\\t\\t {eabs_20s[nmax]} \\n\") # Printing errors at n = 20\n"
   ]
  },
  {
   "cell_type": "markdown",
   "metadata": {},
   "source": [
    "<center><b><u>With double-precision</u></b></center>"
   ]
  },
  {
   "cell_type": "code",
   "execution_count": 33,
   "metadata": {},
   "outputs": [],
   "source": [
    "# Setting single-precision\n",
    "prec = np.float64\n",
    "\n",
    "# Initial values\n",
    "x0 = np.float64(1)\n",
    "x1 = np.float64(2)"
   ]
  },
  {
   "cell_type": "code",
   "execution_count": 34,
   "metadata": {},
   "outputs": [],
   "source": [
    "# Implementing recurrence relation for n=0,...,4\n",
    "nmax = 4\n",
    "x,n = recurrence(nmax, x0, x1, prec)"
   ]
  },
  {
   "cell_type": "code",
   "execution_count": 35,
   "metadata": {},
   "outputs": [
    {
     "name": "stdout",
     "output_type": "stream",
     "text": [
      "\n",
      "-------Calculations with double-precision floating-point numbers.-------\n",
      "\n",
      "n \t Exact Value \t\t\t\t Recurrence value \t\t\t Relative Error \t\t\t Absolute Error \n",
      "\n",
      "0 \t                    1.0 \t                    1.0 \t\t                    0.0 \t\t                    0.0\n",
      "\n",
      "1 \t                    2.0 \t                    2.0 \t\t                    0.0 \t\t                    0.0\n",
      "\n",
      "2 \t                    4.0 \t                    4.0 \t\t                    0.0 \t\t                    0.0\n",
      "\n",
      "3 \t                    8.0 \t                    8.0 \t\t                    0.0 \t\t                    0.0\n",
      "\n",
      "4 \t                   16.0 \t                   16.0 \t\t                    0.0 \t\t                    0.0\n",
      "\n"
     ]
    }
   ],
   "source": [
    "# Printing calculations at each 'n' value\n",
    "if prec == np.float32:\n",
    "    print(\"\\n-------Calculations with single-precision floating-point numbers.-------\\n\")\n",
    "else:\n",
    "    print(\"\\n-------Calculations with double-precision floating-point numbers.-------\\n\")\n",
    "\n",
    "# Printing errors at 'n' value\n",
    "print(f\"n \\t Exact Value \\t\\t\\t\\t Recurrence value \\t\\t\\t Relative Error \\t\\t\\t Absolute Error \\n\")\n",
    "\n",
    "# Set verbose=\"True\" to print errors at each 'n'.\n",
    "# Set function 'exact_xn_2nd' to calculate exact values.\n",
    "erels_4d, eabs_4d = err_calc(exact_xn_2nd, x, n, verbose=\"True\")\n"
   ]
  },
  {
   "cell_type": "code",
   "execution_count": 36,
   "metadata": {},
   "outputs": [
    {
     "name": "stdout",
     "output_type": "stream",
     "text": [
      "\n",
      "-------Calculations with double-precision floating-point numbers.-------\n",
      "\n",
      "n \t  Relative Error \t\t\t Absolute Error \n",
      "\n",
      "4 \t 0.0 \t\t\t\t\t 0.0 \n",
      "\n"
     ]
    }
   ],
   "source": [
    "# Printing calculations at n  = 4\n",
    "if prec == np.float32:\n",
    "    print(\"\\n-------Calculations with single-precision floating-point numbers.-------\\n\")\n",
    "else:\n",
    "    print(\"\\n-------Calculations with double-precision floating-point numbers.-------\\n\")\n",
    "\n",
    "# Printing errors at 'n' value\n",
    "print(f\"n \\t  Relative Error \\t\\t\\t Absolute Error \\n\")\n",
    "\n",
    "# Set verbose=\"True\" to print errors at each 'n'.\n",
    "# Set function 'exact_xn_2nd' to calculate exact values.\n",
    "erels_4d, eabs_4d = err_calc(exact_xn_2nd, x, n, verbose=\"False\")\n",
    "\n",
    "print(f\"{nmax} \\t {erels_4d[nmax]} \\t\\t\\t\\t\\t {eabs_4d[nmax]} \\n\") # Printing errors at n = 4\n"
   ]
  },
  {
   "cell_type": "code",
   "execution_count": 37,
   "metadata": {},
   "outputs": [],
   "source": [
    "# Implementing recurrence relation for n=0,...,20\n",
    "nmax = 20\n",
    "x,n = recurrence(nmax, x0, x1, prec)\n"
   ]
  },
  {
   "cell_type": "code",
   "execution_count": 38,
   "metadata": {},
   "outputs": [
    {
     "name": "stdout",
     "output_type": "stream",
     "text": [
      "\n",
      "-------Calculations with double-precision floating-point numbers.-------\n",
      "\n",
      "n \t Exact Value \t\t\t\t Recurrence value \t\t\t Relative Error \t\t\t Absolute Error \n",
      "\n"
     ]
    }
   ],
   "source": [
    "# Printing calculations at each 'n' value\n",
    "if prec == np.float32:\n",
    "    print(\"\\n-------Calculations with single-precision floating-point numbers.-------\\n\")\n",
    "else:\n",
    "    print(\"\\n-------Calculations with double-precision floating-point numbers.-------\\n\")\n",
    "\n",
    "    \n",
    "# Printing errors at 'n' value\n",
    "print(f\"n \\t Exact Value \\t\\t\\t\\t Recurrence value \\t\\t\\t Relative Error \\t\\t\\t Absolute Error \\n\")\n",
    "\n",
    "# Set verbose=\"True\" to print errors at each 'n'.\n",
    "# Set function 'exact_xn_2nd' to calculate exact values.\n",
    "erels_20d, eabs_20d = err_calc(exact_xn_2nd, x, n, verbose=\"False\")\n"
   ]
  },
  {
   "cell_type": "code",
   "execution_count": 39,
   "metadata": {},
   "outputs": [
    {
     "name": "stdout",
     "output_type": "stream",
     "text": [
      "\n",
      "-------Calculations with double-precision floating-point numbers.-------\n",
      "\n",
      "n \t  Relative Error \t\t Absolute Error \n",
      "\n",
      "20 \t 0.0 \t\t\t\t 0.0 \n",
      "\n"
     ]
    }
   ],
   "source": [
    "# Printing calculations at n = 20\n",
    "if prec == np.float32:\n",
    "    print(\"\\n-------Calculations with single-precision floating-point numbers.-------\\n\")\n",
    "else:\n",
    "    print(\"\\n-------Calculations with double-precision floating-point numbers.-------\\n\")\n",
    "\n",
    "    \n",
    "# Printing errors at 'n' value\n",
    "print(f\"n \\t  Relative Error \\t\\t Absolute Error \\n\")\n",
    "\n",
    "# Set verbose=\"True\" to print errors at each 'n'.\n",
    "# Set function 'exact_xn_2nd' to calculate exact values.\n",
    "erels_20d, eabs_20d = err_calc(exact_xn_2nd, x, n, verbose=\"False\")\n",
    "\n",
    "print(f\"{nmax} \\t {erels_20d[nmax]} \\t\\t\\t\\t {eabs_20d[nmax]} \\n\") # Printing errors at n = 20"
   ]
  },
  {
   "cell_type": "markdown",
   "metadata": {},
   "source": [
    "<center><b><u>Observation of Stability</u></b></center>"
   ]
  },
  {
   "cell_type": "markdown",
   "metadata": {},
   "source": [
    "In case of Q. (a) & (b), unstability arised from mainly 3 sources.   \n",
    "    1. $x_1$ is fractional value.\n",
    "    2. Exact value of $x_n$ involves fraction.\n",
    "    3. Recurrence calculation already involves fractions $\\frac{11}{5}$ & $\\frac{2}{5}$. \n",
    "    \n",
    "Since we are using different precision types for floating point numbers, It’s important to realize that this is, in a real sense, an illusion: we’re simply rounding the display of the true machine value.\n",
    "One illusion may beget another. Thus error in every fractional calculation adds up to the next step. "
   ]
  },
  {
   "cell_type": "markdown",
   "metadata": {},
   "source": [
    "In case of Q. (c), we are using initial values which are both integers $(x_0 = 1 \\& x_1 = 2)$. And we are comparing it with the exact answer which involves only integers ($x_n = 2**n$). Because of the absence of decimals in the initial values and the exact values, the error from floating point numbers calculations is vanished. Although initial values are integers, those are fed to the recurrence relation involving fractional floating-point numbers, thus the initial values are represented using precisions with decimals (for example, 2.0) instead of simply mentioning the integer (i.e. 2) to minimize the error. That's why this calculation is more stable than those in Q. (a) & (b). "
   ]
  },
  {
   "cell_type": "code",
   "execution_count": null,
   "metadata": {},
   "outputs": [],
   "source": []
  }
 ],
 "metadata": {
  "kernelspec": {
   "display_name": "UFRC Python-3.8",
   "language": "python",
   "name": "python3-3.8-ufrc"
  },
  "language_info": {
   "codemirror_mode": {
    "name": "ipython",
    "version": 3
   },
   "file_extension": ".py",
   "mimetype": "text/x-python",
   "name": "python",
   "nbconvert_exporter": "python",
   "pygments_lexer": "ipython3",
   "version": "3.8.5"
  }
 },
 "nbformat": 4,
 "nbformat_minor": 4
}
