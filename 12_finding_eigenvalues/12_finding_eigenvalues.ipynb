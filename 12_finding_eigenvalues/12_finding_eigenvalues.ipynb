{
 "cells": [
  {
   "cell_type": "markdown",
   "metadata": {},
   "source": [
    "<center><h2><b>12. Finding Eigenvalues</b></h2></center>\n",
    "<center><h4>Code Author: Pratiksha Balasaheb Gaikwad</h4></center>\n",
    "<hr style=\"height:2px;border-width:0;color:orange;background-color:orange\">\n",
    "<hr style=\"height:2px;border-width:0;color:blue;background-color:blue\">\n"
   ]
  },
  {
   "cell_type": "code",
   "execution_count": 1,
   "metadata": {},
   "outputs": [],
   "source": [
    "import numpy as np"
   ]
  },
  {
   "cell_type": "markdown",
   "metadata": {},
   "source": [
    "**Finding eigenvalues:**  \n",
    "\n",
    "A mass on a spring acting as a simple harmonic oscillator will have a potential energy given by $V = \\frac{1}{2}kx^2$ , where $x = 0$ defines the equilibrium position of the\n",
    "spring and $k$ is the force constant of the spring (such that $F = −∂V/∂x = −kx)$.\n",
    "The frequency of oscillation is given by $ w= \\sqrt{k/m}$. If we have multiple masses connected to multiple springs, however, then the oscillations of each mass are not independent. Instead, we will use linear algebra in this assignment to determine the\n",
    "resonant frequencies of coupled oscillations.  \n"
   ]
  },
  {
   "cell_type": "markdown",
   "metadata": {},
   "source": [
    "\n",
    "Vibrations of atoms in molecules are a prime example of a mechanical system that involves coupled oscillations. We can assume that the displacements from equilibrium are small, such that the oscillations can still be modeled as that of a simple\n",
    "harmonic oscillator. Consider a triatomic molecule with a right triangular structure, as shown in the figure below. The characteristic (resonant) frequencies of its molecular vibrations are closely related to the eigenvalues $\\lambda_i$ of the following matrix:"
   ]
  },
  {
   "cell_type": "markdown",
   "metadata": {},
   "source": [
    "$$\\begin{pmatrix}\n",
    "1 & -1 & 0 & 0 & 0 & 0\\\\\n",
    "-1 & 1.5 & -0.5 & 0 & -0.5 & 0.5\\\\\n",
    "0 & -0.5 & 0.5 & 0 & 0.5 & -0.5\\\\\n",
    "0 & 0 & 0 & 1 & 0 & -1\\\\\n",
    "0 & -0.5 & 0.5 & 0 & 0.5 & -0.5\\\\\n",
    "0 & 0.5 & -0.5 & -1 & -0.5 & 1.5\n",
    "\\end{pmatrix}\n",
    "$$"
   ]
  },
  {
   "cell_type": "markdown",
   "metadata": {},
   "source": [
    "\n",
    "(a) Use the function 'numpy.linalg.eigvals()' to find the eigenvalues of the above matrix.  \n"
   ]
  },
  {
   "cell_type": "code",
   "execution_count": 2,
   "metadata": {},
   "outputs": [],
   "source": [
    "arr = np.array([[ 1,  -1,  0,  0, 0, 0],\n",
    "           [ -1,  1.5, -0.5, 0, -0.5, 0.5],\n",
    "           [ 0,  -0.5, 0.5, 0, 0.5, -0.5],\n",
    "           [ 0, 0, 0, 1, 0,  -1],\n",
    "           [ 0,  -0.5, 0.5, 0, 0.5, -0.5],\n",
    "           [ 0, 0.5,  -0.5, -1, -0.5, 1.5]],float)"
   ]
  },
  {
   "cell_type": "code",
   "execution_count": 3,
   "metadata": {},
   "outputs": [
    {
     "name": "stdout",
     "output_type": "stream",
     "text": [
      "\n",
      "The eigenvalues (𝜆) of above matrix are\n",
      "=[ 4.44089210e-16  3.00000000e+00  2.00000000e+00  1.00000000e+00\n",
      "  1.12597592e-17 -7.75922276e-17]\n"
     ]
    }
   ],
   "source": [
    "lambdas = np.linalg.eigvals(arr)\n",
    "print(\"\\nThe eigenvalues (𝜆) of above matrix are\")\n",
    "print(f\"={lambdas}\")"
   ]
  },
  {
   "cell_type": "markdown",
   "metadata": {},
   "source": [
    "> From the obtained eigenvalues ($\\lambda_{1-6}$), $\\lambda_{1} = 4.44089210e-16, \\lambda_{5} = 1.12597592e-17$ and $\\lambda_{6} =  -7.75922276e-17$ are very close to float-precision for zero. "
   ]
  },
  {
   "cell_type": "markdown",
   "metadata": {},
   "source": [
    "So the **eigenvalues** are as follows:"
   ]
  },
  {
   "cell_type": "markdown",
   "metadata": {},
   "source": [
    "$$\\lambda_i = \\begin{bmatrix}0 \\\\   3  \\\\  2 \\\\   1 \\\\ 0 \\\\ 0 \\end{bmatrix}$$"
   ]
  },
  {
   "cell_type": "markdown",
   "metadata": {},
   "source": [
    "**(b)** What are the corresponding eigenfrequencies of oscillation for this right triangular molecule (expressed in terms of the constants $k$ and $m$)? How many unique, nonzero eigenfrequencies does the system have? Speculate about what you think eigenfrequencies of zero might mean for this system."
   ]
  },
  {
   "cell_type": "markdown",
   "metadata": {},
   "source": [
    "The resonant frequencies are therefore also known as the **eigenfrequencies**  $w_i$ of oscillation, and they are related to the eigenvalues $\\lambda_i$ by the equation $$\\lambda_i = mw^2_i /k.$$  \n",
    "\n"
   ]
  },
  {
   "cell_type": "markdown",
   "metadata": {},
   "source": [
    "$$\\implies w_i = \\sqrt{\\frac{\\lambda_ik}{m}}$$"
   ]
  },
  {
   "cell_type": "markdown",
   "metadata": {},
   "source": [
    "Therefore, corresponding **eigenfrequencies**  $w_i$ of oscillation from previously obtained eigenvalues are:"
   ]
  },
  {
   "cell_type": "markdown",
   "metadata": {},
   "source": [
    "$$w_i = \\sqrt{\\frac{k}{m}}\\begin{bmatrix}0 \\\\   \\sqrt{3}  \\\\  \\sqrt{2} \\\\   \\sqrt{1} \\\\ 0 \\\\ 0 \\end{bmatrix}$$"
   ]
  },
  {
   "cell_type": "markdown",
   "metadata": {},
   "source": [
    "If we set $m = 1 = k$: $$\\implies w_i = \\sqrt{\\lambda_i}$$"
   ]
  },
  {
   "cell_type": "code",
   "execution_count": 4,
   "metadata": {},
   "outputs": [
    {
     "name": "stdout",
     "output_type": "stream",
     "text": [
      "\n",
      "Therefore corresponding eigenfrequencies are\n",
      "= √(k/m)[0.         1.73205081 1.41421356 1.         0.         0.        ]\n"
     ]
    }
   ],
   "source": [
    "lam = np.array([0,3,2,1,0,0])\n",
    "\n",
    "w = np.sqrt(lam) # eigenfrequencies\n",
    "print(\"\\nTherefore corresponding eigenfrequencies are\")\n",
    "print(f\"= \\u221A(k/m){w}\")"
   ]
  },
  {
   "cell_type": "code",
   "execution_count": null,
   "metadata": {},
   "outputs": [],
   "source": []
  },
  {
   "cell_type": "markdown",
   "metadata": {},
   "source": [
    "There are three non-zero, unique eigenfrequencies. The other three are zero-frequencies, which are also known as system's antiresonant frequencies at which the oscillation amplitude can drop to almost zero. The symmetry of the system may lead to no change in potential energy for some displacements which will result into zero eigenvalue and zero frequency mode. The zero-frequency mode corresponds not to oscillation but to a translation of the system _i.e._ the center of mass of the system with the oscillation OR to rotations. "
   ]
  }
 ],
 "metadata": {
  "kernelspec": {
   "display_name": "UFRC Python-3.8",
   "language": "python",
   "name": "python3-3.8-ufrc"
  },
  "language_info": {
   "codemirror_mode": {
    "name": "ipython",
    "version": 3
   },
   "file_extension": ".py",
   "mimetype": "text/x-python",
   "name": "python",
   "nbconvert_exporter": "python",
   "pygments_lexer": "ipython3",
   "version": "3.8.5"
  }
 },
 "nbformat": 4,
 "nbformat_minor": 4
}
