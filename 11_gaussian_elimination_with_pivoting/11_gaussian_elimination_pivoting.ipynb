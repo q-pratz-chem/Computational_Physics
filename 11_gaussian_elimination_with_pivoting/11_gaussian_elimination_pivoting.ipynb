{
 "cells": [
  {
   "cell_type": "markdown",
   "metadata": {},
   "source": [
    "<center><h4><b>PHY4905/5905: Computational Physics – Spring 2022</b></h4></center>\n",
    "<center><h4><b>Homework #7: Numerical Linear Algebra</b></h4></center>\n",
    "<center><h4><b>Code Author: Pratiksha Balasaheb Gaikwad</b></h4></center>\n",
    "<hr style=\"height:2px;border-width:0;color:orange;background-color:orange\">\n",
    "<hr style=\"height:2px;border-width:0;color:blue;background-color:blue\">"
   ]
  },
  {
   "cell_type": "markdown",
   "metadata": {},
   "source": [
    "**1. Gaussian elimination with pivoting:**  \n",
    "\n",
    "\n",
    "(a) Consider the following system of linear equations, written in the matrix form\n",
    "$$\\textbf{A x = v}:$$"
   ]
  },
  {
   "cell_type": "markdown",
   "metadata": {},
   "source": [
    "$$\n",
    "\\begin{pmatrix}\n",
    "0 & 1 & 4 & 1\\\\\n",
    "3 & 4 & -1 & -1\\\\\n",
    "1 & -4 & 1 & 5\\\\\n",
    "2 & -2 & 1 & 3\n",
    "\\end{pmatrix}\n",
    "\\begin{pmatrix}\n",
    "w \\\\ x \\\\ y \\\\ z \n",
    "\\end{pmatrix}\n",
    "=\n",
    "\\begin{pmatrix}\n",
    "-4 \\\\ 3 \\\\ 9 \\\\ 7\n",
    "\\end{pmatrix}\n",
    "$$"
   ]
  },
  {
   "cell_type": "markdown",
   "metadata": {},
   "source": [
    "Solve this matrix equation for the unknown variables using Gaussian elimination with pivoting. You may start by using the Gaussian elimination algorithm from class (or the 'gausselim.py' script from Newman) and modify it to include\n",
    "pivoting.  \n",
    "\n",
    "(b) Compare your answer with the results you obtain using the 'numpy.linalg.solve()' function instead of your own algorithm."
   ]
  },
  {
   "cell_type": "code",
   "execution_count": 3,
   "metadata": {},
   "outputs": [],
   "source": [
    "import numpy as np\n",
    "from copy import copy\n"
   ]
  },
  {
   "cell_type": "code",
   "execution_count": 16,
   "metadata": {},
   "outputs": [],
   "source": [
    "def pivot(_A,_v):   \n",
    "    \"\"\"\n",
    "    Function for implementation of pivoting method.\n",
    "    \n",
    "    Inputs: A (NxN matrix as numpy array) \n",
    "            v (length-N numpy array)\n",
    "            \n",
    "    \n",
    "    Returns: \n",
    "    New A (NxN matrix as numpy array) \n",
    "    New v (length-N numpy array)\n",
    "    after pivoting.\n",
    "    \"\"\"\n",
    "    N = len(_v)\n",
    "    \n",
    "    for m in range(N-1):\n",
    "        maxn = _A[m][m] # initiate maximum number with diagonal element of current row\n",
    "        indx = m       # initiate index for maximum number with that of current row\n",
    "  \n",
    "        # Loop to find out index of row whose m^th  element has the largest absolute value.\n",
    "        for i in range(m+1,N):\n",
    "            if abs(_A[i][m]) > maxn:\n",
    "                maxn = abs(_A[i][m])\n",
    "                indx = i\n",
    "        #print(indx, maxn, \"\\n\")\n",
    "        \n",
    "        _A[[m,indx]] = _A[[indx,m]] # swap rows\n",
    "        _v[[m,indx]] = _v[[indx,m]] # swap rows\n",
    "        \n",
    "        \n",
    "    print(\"\\n>>> Pivoting done!\\n\")\n",
    "    print(f\"NEW A={_A} \\n\")\n",
    "    print(f\"NEW v={_v}\")\n",
    "    \n",
    "    return _A, _v"
   ]
  },
  {
   "cell_type": "code",
   "execution_count": 17,
   "metadata": {},
   "outputs": [],
   "source": [
    "def ge_solve(A, v):\n",
    "    \"\"\"\n",
    "    Simple implementation of Gaussian elimination\n",
    "    \n",
    "    Based on gausselim.py from Newman,\n",
    "    adapted by L. Blecha, later adapted by Pratiksha G.\n",
    "    Inputs: A (NxN matrix as numpy array) \n",
    "            v (length-N numpy array)    \n",
    "    \n",
    "    \n",
    "    Returns: x (length-N array that solves A x = v)\n",
    "    \"\"\"\n",
    "    \n",
    "    # Define new, distinct variables _A, _v to avoid\n",
    "    # modifying the global variables (A, v)\n",
    "    # that are passed to the function\n",
    "    _A = copy(A)\n",
    "    _v = copy(v)\n",
    "    \n",
    "    N = len(_v)\n",
    "    \n",
    "    if _A.shape[0] != N or _A.shape[1] != N:\n",
    "        print(\"Error: array shape mismatch in ge_solve:\")\n",
    "        print(_A.shape, _v.shape)\n",
    "        return []\n",
    "\n",
    "    diag = np.diag(A)\n",
    "    if 0.0 in diag: # check if any diagonal element is zero\n",
    "        _A, _v = pivot(A,v) # do pivioting using pivot function\n",
    "\n",
    "\n",
    "    # Gaussian elimination\n",
    "    for m in range(N):\n",
    "\n",
    "        # Divide by the diagonal element\n",
    "        div = _A[m,m]\n",
    "        _A[m,:] /= div\n",
    "        _v[m] /= div\n",
    "\n",
    "        # Now subtract from the lower rows\n",
    "        for i in range(m+1,N):\n",
    "            mult = _A[i,m]\n",
    "            _A[i,:] -= mult*_A[m,:]\n",
    "            _v[i] -= mult*_v[m]\n",
    "\n",
    "    # Backsubstitution\n",
    "    x = np.empty(N,float)\n",
    "    #print(N)\n",
    "    for m in range(N-1,-1,-1):\n",
    "        x[m] = _v[m]\n",
    "        #print(m)\n",
    "        for i in range(m+1,N):\n",
    "            #print(m,i)\n",
    "            x[m] -= _A[m,i]*x[i]\n",
    "\n",
    "    #print(x)\n",
    "    return x"
   ]
  },
  {
   "cell_type": "code",
   "execution_count": null,
   "metadata": {},
   "outputs": [],
   "source": []
  },
  {
   "cell_type": "code",
   "execution_count": 9,
   "metadata": {},
   "outputs": [
    {
     "name": "stdout",
     "output_type": "stream",
     "text": [
      "Solving matrix equation A x = v using Gaussian elimination.\n",
      "\n",
      "A=[[ 0.  1.  4.  1.]\n",
      " [ 3.  4. -1. -1.]\n",
      " [ 1. -4.  1.  5.]\n",
      " [ 2. -2.  1.  3.]]\n",
      "v=[-4.  3.  9.  7.]\n",
      "\n",
      ">>> Pivoting done!\n",
      "\n",
      "NEW A=[[ 3.  4. -1. -1.]\n",
      " [ 1. -4.  1.  5.]\n",
      " [ 0.  1.  4.  1.]\n",
      " [ 2. -2.  1.  3.]] \n",
      "\n",
      "NEW v=[ 3.  9. -4.  7.]\n",
      "\n",
      "The solution is\n",
      "x=[ 1.61904762 -0.42857143 -1.23809524  1.38095238]\n"
     ]
    }
   ],
   "source": [
    "A = np.array([[ 0,  1,  4,  1 ],\n",
    "           [ 3,  4, -1, -1 ],\n",
    "           [ 1, -4,  1,  5 ],\n",
    "           [ 2, -2,  1,  3 ]],float)\n",
    "v = np.array([ -4, 3, 9, 7 ],float)\n",
    "\n",
    "# perform the Gaussian elimination with pivoting to solve\n",
    "print(\"Solving matrix equation A x = v using Gaussian elimination.\\n\")\n",
    "print(f\"A={A}\")\n",
    "print(f\"v={v}\")\n",
    "\n",
    "# x is the solution to the system Ax = v using own code\n",
    "x = ge_solve(A, v)\n",
    "\n",
    "print(\"\\nThe solution is\")\n",
    "print(f\"x={x}\")\n",
    "\n"
   ]
  },
  {
   "cell_type": "markdown",
   "metadata": {},
   "source": [
    "<center><h3><b>Using 'numpy.linalg.solve(A,v)'</h3></center></b>"
   ]
  },
  {
   "cell_type": "code",
   "execution_count": 10,
   "metadata": {},
   "outputs": [
    {
     "name": "stdout",
     "output_type": "stream",
     "text": [
      "\n",
      "The solution is\n",
      "x=[ 1.61904762 -0.42857143 -1.23809524  1.38095238]\n"
     ]
    }
   ],
   "source": [
    "# lib_x is the solution to the system Ax = v using the numpy library function\n",
    "lib_x = np.linalg.solve(A,v)\n",
    "print(\"\\nThe solution is\")\n",
    "print(f\"x={lib_x}\")"
   ]
  },
  {
   "cell_type": "markdown",
   "metadata": {},
   "source": [
    "<center><h3><b>Comparing with x = numpy.linalg.solve(A,v) function for Ax = v</h3></center></b>"
   ]
  },
  {
   "cell_type": "code",
   "execution_count": 11,
   "metadata": {},
   "outputs": [
    {
     "name": "stdout",
     "output_type": "stream",
     "text": [
      "\n",
      "Using np.array_equal:  False\n",
      "\n",
      "Using np.allclose:  True\n",
      "\n",
      "\n",
      "The difference b/w both solutions = [2.22044605e-16 0.00000000e+00 0.00000000e+00 0.00000000e+00]\n"
     ]
    }
   ],
   "source": [
    "print(\"\\nUsing np.array_equal: \", np.array_equal(x, lib_x))\n",
    "print(\"\\nUsing np.allclose: \", np.allclose(x, lib_x))\n",
    "\n",
    "\n",
    "result = np.subtract(x, lib_x)\n",
    "print ('\\n\\nThe difference b/w both solutions =', result)"
   ]
  },
  {
   "cell_type": "markdown",
   "metadata": {},
   "source": [
    ">So there is a difference of python precision zero values. That shows that our own code and the **numpy.linalg.solve()** gives the same results."
   ]
  },
  {
   "cell_type": "code",
   "execution_count": null,
   "metadata": {},
   "outputs": [],
   "source": []
  },
  {
   "cell_type": "code",
   "execution_count": null,
   "metadata": {},
   "outputs": [],
   "source": []
  }
 ],
 "metadata": {
  "kernelspec": {
   "display_name": "UFRC Python-3.8",
   "language": "python",
   "name": "python3-3.8-ufrc"
  },
  "language_info": {
   "codemirror_mode": {
    "name": "ipython",
    "version": 3
   },
   "file_extension": ".py",
   "mimetype": "text/x-python",
   "name": "python",
   "nbconvert_exporter": "python",
   "pygments_lexer": "ipython3",
   "version": "3.8.5"
  }
 },
 "nbformat": 4,
 "nbformat_minor": 4
}
