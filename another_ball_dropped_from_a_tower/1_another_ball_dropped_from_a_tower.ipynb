{
 "cells": [
  {
   "cell_type": "markdown",
   "metadata": {},
   "source": [
    "<center><h2><b>1. Another ball dropped from a tower</b></h2></center>\n",
    "<center><h4>Exercise 2.1 from Computational Physics by Mark Newman</h4></center>\n",
    "<center><h4>Code Author: Pratiksha Balasaheb Gaikwad</h4></center>\n",
    "<hr style=\"height:2px;border-width:0;color:orange;background-color:orange\">\n",
    "<hr style=\"height:2px;border-width:0;color:blue;background-color:blue\">\n",
    "\n",
    "\n"
   ]
  },
  {
   "cell_type": "markdown",
   "metadata": {},
   "source": [
    "**Exercise 2.1:Another ball dropped from a tower**\n",
    "A ball is again dropped from a tower of height h with initial velocity zero. Write a program that asks the user to enter the height in meters of the tower and then calculates and prints the time the ball takes until it hits the ground, ignoring air resistance. Use your program to calculate the time for a ball dropped from a 100m high tower."
   ]
  },
  {
   "cell_type": "markdown",
   "metadata": {},
   "source": [
    "### ANSWER"
   ]
  },
  {
   "cell_type": "markdown",
   "metadata": {},
   "source": [
    ">**Mathematical framework:**\n",
    "\n",
    "Acceleration due to gravity: $g = 9.81 ms^{-2}$\n",
    "\n",
    "$$\\Delta x = v_it + \\frac{1}{2}at^2 $$\n",
    "Since $a = -g$ for free fall, the standard kinematic formula for distance travelled will be,\n",
    "$$\\Delta y = v_it - \\frac{1}{2}gt^2 $$\n",
    "\n"
   ]
  },
  {
   "cell_type": "markdown",
   "metadata": {},
   "source": [
    "We want to calculate the time $t$ required to hit the ground, \n",
    "so $\\Delta y = h$, where h is the height of the tower in meters. \n",
    "\n",
    "$\\implies$ Time required $t = \\sqrt{\\frac{2h}{g}}$"
   ]
  },
  {
   "cell_type": "code",
   "execution_count": 1,
   "metadata": {},
   "outputs": [],
   "source": [
    "from math import sqrt\n",
    "import matplotlib.pyplot as plt\n",
    "import numpy as np"
   ]
  },
  {
   "cell_type": "code",
   "execution_count": 2,
   "metadata": {},
   "outputs": [
    {
     "name": "stdin",
     "output_type": "stream",
     "text": [
      "Enter the height of the tower in meters:  100\n"
     ]
    },
    {
     "name": "stdout",
     "output_type": "stream",
     "text": [
      "\n",
      "If the ball dropped from a tower of height  100.0 meters\n",
      "the ball takes  4.515236409857309 seconds to hit the ground.\n"
     ]
    }
   ],
   "source": [
    "#Accelaration due to gravity\n",
    "g = 9.81     # Unit = m/s^2\n",
    "\n",
    "#Initial velocity is zero\n",
    "vi = 0       # Unit = m/s\n",
    "\n",
    "#Input height of the tower\n",
    "h = float(input(\"Enter the height of the tower in meters: \"))\n",
    "\n",
    "#Time required to hit the ground\n",
    "time = sqrt(2*h/g) # Unit = seconds\n",
    "\n",
    "print(\"\\nIf the ball dropped from a tower of height \", h, \"meters\")\n",
    "print(\"the ball takes \", time, \"seconds to hit the ground.\")\n"
   ]
  },
  {
   "cell_type": "markdown",
   "metadata": {},
   "source": [
    "<hr style=\"height:2px;border-width:0;color:orange;background-color:orange\">"
   ]
  },
  {
   "cell_type": "code",
   "execution_count": 7,
   "metadata": {},
   "outputs": [
    {
     "name": "stdout",
     "output_type": "stream",
     "text": [
      "\n",
      "Time (s) =  [ 0.   0.5  1.   1.5  2.   2.5  3.   3.5  4.   4.5  5.   5.5  6.   6.5\n",
      "  7.   7.5  8.   8.5  9.   9.5 10. ]\n",
      "\n",
      "Height (m) for varying input time values = \n",
      " [  -0.        -1.22625   -4.905    -11.03625  -19.62     -30.65625\n",
      "  -44.145    -60.08625  -78.48     -99.32625 -122.625   -148.37625\n",
      " -176.58    -207.23625 -240.345   -275.90625 -313.92    -354.38625\n",
      " -397.305   -442.67625 -490.5    ] \n",
      "\n",
      "\n"
     ]
    },
    {
     "data": {
      "image/png": "[encoded data removed]",
      "text/plain": [
       "<Figure size 432x288 with 1 Axes>"
      ]
     },
     "metadata": {
      "needs_background": "light"
     },
     "output_type": "display_data"
    }
   ],
   "source": [
    "# A plot of the height of the ball versus time from Exercise 2.1\n",
    "\n",
    "# function to calculate height at time t\n",
    "def height(t):\n",
    "    h = -g*t**2/2 # g is global variable\n",
    "    return h\n",
    "\n",
    "# evenly sampled time at 0.5s intervals\n",
    "t = np.arange(0.,10.5,0.5)\n",
    "print(\"\\nTime (s) = \", t)\n",
    "\n",
    "\n",
    "# array for height of the ball at time t\n",
    "ht = np.array([height(time) for time in t])\n",
    "print(\"\\nHeight (m) for varying input time values = \\n\", ht, \"\\n\\n\")\n",
    "\n",
    "\n",
    "\n",
    "plt.plot(t,height(t), 'c--')\n",
    "plt.xlabel('Time (s)')\n",
    "plt.ylabel('Height (m)')\n",
    "plt.title('Height of the ball vs. Time graph')\n",
    "plt.show()"
   ]
  },
  {
   "cell_type": "markdown",
   "metadata": {},
   "source": [
    "\n",
    "<hr style=\"height:2px;border-width:0;color:blue;background-color:blue\">"
   ]
  },
  {
   "cell_type": "markdown",
   "metadata": {},
   "source": [
    ">Velocity of the free-falling ball after time $t$ seconds is given by, $$v_f = g \\times t \\quad m/s.$$ "
   ]
  },
  {
   "cell_type": "code",
   "execution_count": 8,
   "metadata": {},
   "outputs": [
    {
     "name": "stdout",
     "output_type": "stream",
     "text": [
      "\n",
      "Time (s) =  [ 0.   0.5  1.   1.5  2.   2.5  3.   3.5  4.   4.5  5.   5.5  6.   6.5\n",
      "  7.   7.5  8.   8.5  9.   9.5 10. ]\n",
      "\n",
      "Velocity (m/s) for varying input time values = \n",
      " [ 0.     4.905  9.81  14.715 19.62  24.525 29.43  34.335 39.24  44.145\n",
      " 49.05  53.955 58.86  63.765 68.67  73.575 78.48  83.385 88.29  93.195\n",
      " 98.1  ] \n",
      "\n",
      "\n"
     ]
    },
    {
     "data": {
      "image/png": "[encoded data removed]",
      "text/plain": [
       "<Figure size 432x288 with 1 Axes>"
      ]
     },
     "metadata": {
      "needs_background": "light"
     },
     "output_type": "display_data"
    }
   ],
   "source": [
    "# A plot of the velocity of the ball versus time from Exercise 2.1\n",
    "\n",
    "# function to calculate velocity at time t\n",
    "def velocity(t):\n",
    "    v = g*t # g is global variable\n",
    "    return v\n",
    "\n",
    "# evenly sampled time at 0.5s intervals\n",
    "t = np.arange(0.,10.5,0.5)\n",
    "print(\"\\nTime (s) = \", t)\n",
    "\n",
    "# array for velocity of the ball at time t\n",
    "vel = np.array([velocity(time) for time in t])\n",
    "print(\"\\nVelocity (m/s) for varying input time values = \\n\", vel, \"\\n\\n\")\n",
    "\n",
    "\n",
    "plt.plot(t,velocity(t), '-r')\n",
    "plt.axis([0,10,0,100])\n",
    "plt.xlabel('Time (s)')\n",
    "plt.ylabel('Velocity (m/s)')\n",
    "plt.title('Velocity of the ball vs. Time graph')\n",
    "plt.show()"
   ]
  },
  {
   "cell_type": "code",
   "execution_count": null,
   "metadata": {},
   "outputs": [],
   "source": []
  },
  {
   "cell_type": "code",
   "execution_count": null,
   "metadata": {},
   "outputs": [],
   "source": []
  }
 ],
 "metadata": {
  "kernelspec": {
   "display_name": "UFRC Python-3.8",
   "language": "python",
   "name": "python3-3.8-ufrc"
  },
  "language_info": {
   "codemirror_mode": {
    "name": "ipython",
    "version": 3
   },
   "file_extension": ".py",
   "mimetype": "text/x-python",
   "name": "python",
   "nbconvert_exporter": "python",
   "pygments_lexer": "ipython3",
   "version": "3.8.5"
  }
 },
 "nbformat": 4,
 "nbformat_minor": 4
}
